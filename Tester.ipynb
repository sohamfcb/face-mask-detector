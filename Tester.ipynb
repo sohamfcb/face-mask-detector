{
 "cells": [
  {
   "cell_type": "code",
   "execution_count": 1,
   "id": "7d2e257e",
   "metadata": {},
   "outputs": [],
   "source": [
    "from keras.models import load_model"
   ]
  },
  {
   "cell_type": "code",
   "execution_count": 2,
   "id": "ce962cfc",
   "metadata": {},
   "outputs": [],
   "source": [
    "model=load_model('face_mask_detector/')"
   ]
  },
  {
   "cell_type": "code",
   "execution_count": 3,
   "id": "317941a1",
   "metadata": {},
   "outputs": [],
   "source": [
    "def detect_mask_from_image(img):\n",
    "    y_pred=model.predict(img.reshape(1,224,224,3))\n",
    "    y_pred=[0 if x < 0.5 else 1 for x in y_pred]\n",
    "    final_pred=y_pred[0]\n",
    "    return pred_dict[final_pred]"
   ]
  },
  {
   "cell_type": "code",
   "execution_count": 4,
   "id": "2543685a",
   "metadata": {},
   "outputs": [],
   "source": [
    "def face_mask_detector(img):\n",
    "    y_pred=model.predict(img.reshape(1,224,224,3))\n",
    "    y_pred=[0 if x < 0.5 else 1 for x in y_pred]\n",
    "    return y_pred"
   ]
  },
  {
   "cell_type": "code",
   "execution_count": 5,
   "id": "319faef3",
   "metadata": {},
   "outputs": [],
   "source": [
    "import cv2"
   ]
  },
  {
   "cell_type": "code",
   "execution_count": 6,
   "id": "2b2a5402",
   "metadata": {},
   "outputs": [],
   "source": [
    "pred_dict={0:'Mask detected',1:'No mask detected'}"
   ]
  },
  {
   "cell_type": "code",
   "execution_count": 7,
   "id": "952cead0",
   "metadata": {},
   "outputs": [],
   "source": [
    "img=cv2.imread('sample1.jpg')"
   ]
  },
  {
   "cell_type": "code",
   "execution_count": 8,
   "id": "97da25f3",
   "metadata": {},
   "outputs": [],
   "source": [
    "img=cv2.resize(img,(224,224))"
   ]
  },
  {
   "cell_type": "code",
   "execution_count": 9,
   "id": "fb93c0c7",
   "metadata": {},
   "outputs": [
    {
     "name": "stdout",
     "output_type": "stream",
     "text": [
      "1/1 [==============================] - 0s 470ms/step\n"
     ]
    },
    {
     "data": {
      "text/plain": [
       "'Mask detected'"
      ]
     },
     "execution_count": 9,
     "metadata": {},
     "output_type": "execute_result"
    }
   ],
   "source": [
    "detect_mask_from_image(img)"
   ]
  },
  {
   "cell_type": "code",
   "execution_count": 10,
   "id": "83860789",
   "metadata": {},
   "outputs": [],
   "source": [
    "def draw_label(img,text,pos,bg_color):\n",
    "    text_size=cv2.getTextSize(text,cv2.FONT_HERSHEY_SIMPLEX,1,cv2.FILLED)\n",
    "    end_x=pos[0]+text_size[0][0]+2\n",
    "    end_y=pos[1]+text_size[0][1]-2\n",
    "    \n",
    "    cv2.rectangle(img,pos,(end_x,end_y),bg_color,cv2.FILLED)\n",
    "    cv2.putText(img,text,pos,cv2.FONT_HERSHEY_SIMPLEX,1,(0,0,0),1,cv2.LINE_AA)"
   ]
  },
  {
   "cell_type": "code",
   "execution_count": 11,
   "id": "21608d7e",
   "metadata": {},
   "outputs": [
    {
     "name": "stdout",
     "output_type": "stream",
     "text": [
      "1/1 [==============================] - 0s 152ms/step\n",
      "1/1 [==============================] - 0s 183ms/step\n",
      "1/1 [==============================] - 0s 168ms/step\n",
      "1/1 [==============================] - 0s 169ms/step\n",
      "1/1 [==============================] - 0s 154ms/step\n",
      "1/1 [==============================] - 0s 149ms/step\n",
      "1/1 [==============================] - 0s 147ms/step\n",
      "1/1 [==============================] - 0s 151ms/step\n",
      "1/1 [==============================] - 0s 153ms/step\n",
      "1/1 [==============================] - 0s 154ms/step\n",
      "1/1 [==============================] - 0s 151ms/step\n",
      "1/1 [==============================] - 0s 154ms/step\n",
      "1/1 [==============================] - 0s 154ms/step\n",
      "1/1 [==============================] - 0s 153ms/step\n",
      "1/1 [==============================] - 0s 150ms/step\n",
      "1/1 [==============================] - 0s 152ms/step\n",
      "1/1 [==============================] - 0s 208ms/step\n",
      "1/1 [==============================] - 0s 161ms/step\n",
      "1/1 [==============================] - 0s 165ms/step\n",
      "1/1 [==============================] - 0s 157ms/step\n",
      "1/1 [==============================] - 0s 173ms/step\n",
      "1/1 [==============================] - 0s 176ms/step\n",
      "1/1 [==============================] - 0s 163ms/step\n",
      "1/1 [==============================] - 0s 150ms/step\n",
      "1/1 [==============================] - 0s 163ms/step\n",
      "1/1 [==============================] - 0s 160ms/step\n"
     ]
    }
   ],
   "source": [
    "cap=cv2.VideoCapture(0)\n",
    "\n",
    "while True:\n",
    "    ret,frame=cap.read()\n",
    "    frame=cv2.resize(frame,(224,224))\n",
    "    y_pred=face_mask_detector(frame)\n",
    "    \n",
    "    if y_pred==[0]:\n",
    "        draw_label(frame,'Mask Detected',(30,30),(0,255,0))\n",
    "    else:\n",
    "        draw_label(frame,'No Mask',(30,30),(0,0,255))\n",
    "    cv2.imshow('window',frame)\n",
    "    if cv2.waitKey(1) & 0xFF==ord('x'):\n",
    "        break\n",
    "        \n",
    "cv2.destroyAllWindows()"
   ]
  }
 ],
 "metadata": {
  "kernelspec": {
   "display_name": "Python 3 (ipykernel)",
   "language": "python",
   "name": "python3"
  },
  "language_info": {
   "codemirror_mode": {
    "name": "ipython",
    "version": 3
   },
   "file_extension": ".py",
   "mimetype": "text/x-python",
   "name": "python",
   "nbconvert_exporter": "python",
   "pygments_lexer": "ipython3",
   "version": "3.10.6"
  }
 },
 "nbformat": 4,
 "nbformat_minor": 5
}
